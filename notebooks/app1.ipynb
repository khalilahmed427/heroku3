{
 "cells": [
  {
   "cell_type": "code",
   "execution_count": 1,
   "id": "f9920567-0d3b-41a0-8fa9-8ab719201196",
   "metadata": {},
   "outputs": [],
   "source": [
    "import numpy as np\n",
    "import matplotlib.pyplot as plt\n",
    "from ipywidgets import interactive,Button,HBox"
   ]
  },
  {
   "cell_type": "code",
   "execution_count": 2,
   "id": "7993414b-8dcb-4ed5-b9b5-9426c8b689e2",
   "metadata": {},
   "outputs": [
    {
     "data": {
      "application/vnd.jupyter.widget-view+json": {
       "model_id": "f883e54ed76048a0b15fcd6a55495bb6",
       "version_major": 2,
       "version_minor": 0
      },
      "text/plain": [
       "HBox(children=(interactive(children=(FloatSlider(value=-1.0, description='a', max=0.0, min=-1.0), FloatSlider(…"
      ]
     },
     "metadata": {},
     "output_type": "display_data"
    }
   ],
   "source": [
    "def plot_func(a, f):\n",
    "    plt.figure(2)\n",
    "    x = np.linspace(0, 2*np.pi, num=1000)\n",
    "    y = a*np.sin(1/f*x)\n",
    "    plt.plot(x,y)\n",
    "    plt.ylim(-1.1, 1.1)\n",
    "    plt.title('a sin(f)')\n",
    "    plt.show()\n",
    "but=Button(description='Click')\n",
    "interactive_plot = interactive(plot_func, a=(-1,0,0.1), f=(0.1, 1))\n",
    "output = interactive_plot.children[-1]\n",
    "output.layout.height = '300px'\n",
    "list1=HBox([interactive_plot,but])\n",
    "list1\n"
   ]
  },
  {
   "cell_type": "code",
   "execution_count": null,
   "id": "5913bf38-9245-4315-84ce-a233ef09ae79",
   "metadata": {},
   "outputs": [],
   "source": []
  }
 ],
 "metadata": {
  "kernelspec": {
   "display_name": "Python 3 (ipykernel)",
   "language": "python",
   "name": "python3"
  },
  "language_info": {
   "codemirror_mode": {
    "name": "ipython",
    "version": 3
   },
   "file_extension": ".py",
   "mimetype": "text/x-python",
   "name": "python",
   "nbconvert_exporter": "python",
   "pygments_lexer": "ipython3",
   "version": "3.8.12"
  }
 },
 "nbformat": 4,
 "nbformat_minor": 5
}
