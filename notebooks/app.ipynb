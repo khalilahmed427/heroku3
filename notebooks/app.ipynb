{
 "cells": [
  {
   "cell_type": "code",
   "execution_count": 7,
   "id": "f9920567-0d3b-41a0-8fa9-8ab719201196",
   "metadata": {},
   "outputs": [],
   "source": [
    "import numpy as np\n",
    "import matplotlib.pyplot as plt\n",
    "from ipywidgets import interactive,Button,HBox,Output"
   ]
  },
  {
   "cell_type": "code",
   "execution_count": 9,
   "id": "7993414b-8dcb-4ed5-b9b5-9426c8b689e2",
   "metadata": {},
   "outputs": [
    {
     "data": {
      "application/vnd.jupyter.widget-view+json": {
       "model_id": "ab535b359e67417db691655450c9d37b",
       "version_major": 2,
       "version_minor": 0
      },
      "text/plain": [
       "Output()"
      ]
     },
     "metadata": {},
     "output_type": "display_data"
    },
    {
     "data": {
      "application/vnd.jupyter.widget-view+json": {
       "model_id": "6bb86f8ef28742d590a293a8328f6cb0",
       "version_major": 2,
       "version_minor": 0
      },
      "text/plain": [
       "Button(description='Click', style=ButtonStyle())"
      ]
     },
     "metadata": {},
     "output_type": "display_data"
    }
   ],
   "source": [
    "\n",
    "but=Button(description='Click')\n",
    "out=Output()\n",
    "display(out,but)\n",
    "def mol(d):\n",
    "    with out:\n",
    "        print('yes')\n",
    "but.on_click(mol)"
    "but"
   ]
  },
  {
   "cell_type": "code",
   "execution_count": null,
   "id": "5913bf38-9245-4315-84ce-a233ef09ae79",
   "metadata": {},
   "outputs": [],
   "source": []
  }
 ],
 "metadata": {
  "kernelspec": {
   "display_name": "Python 3 (ipykernel)",
   "language": "python",
   "name": "python3"
  },
  "language_info": {
   "codemirror_mode": {
    "name": "ipython",
    "version": 3
   },
   "file_extension": ".py",
   "mimetype": "text/x-python",
   "name": "python",
   "nbconvert_exporter": "python",
   "pygments_lexer": "ipython3",
   "version": "3.8.12"
  }
 },
 "nbformat": 4,
 "nbformat_minor": 5
}
