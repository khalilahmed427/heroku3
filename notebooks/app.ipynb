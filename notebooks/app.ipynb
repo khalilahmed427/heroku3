{
 "cells": [
  {
   "cell_type": "code",
   "execution_count": 1,
   "id": "f9920567-0d3b-41a0-8fa9-8ab719201196",
   "metadata": {},
   "outputs": [],
   "source": [
    "import numpy as np\n",
    "import matplotlib.pyplot as plt\n",
    "from ipywidgets import interactive,Button,VBox,Output"
   ]
  },
  {
   "cell_type": "code",
   "execution_count": 3,
   "id": "7993414b-8dcb-4ed5-b9b5-9426c8b689e2",
   "metadata": {},
   "outputs": [
    {
     "data": {
      "application/vnd.jupyter.widget-view+json": {
       "model_id": "33c77ad39e004cd3b1b0ffc744523e19",
       "version_major": 2,
       "version_minor": 0
      },
      "text/plain": [
       "Output()"
      ]
     },
     "metadata": {},
     "output_type": "display_data"
    },
    {
     "data": {
      "application/vnd.jupyter.widget-view+json": {
       "model_id": "ac44f22201e54396bcecb82dafba8c03",
       "version_major": 2,
       "version_minor": 0
      },
      "text/plain": [
       "Button(description='Click1', style=ButtonStyle())"
      ]
     },
     "metadata": {},
     "output_type": "display_data"
    },
    {
     "data": {
      "application/vnd.jupyter.widget-view+json": {
       "model_id": "f737d5d6c4764a5aa1618a7407e1bfe4",
       "version_major": 2,
       "version_minor": 0
      },
      "text/plain": [
       "Button(description='Click2', style=ButtonStyle())"
      ]
     },
     "metadata": {},
     "output_type": "display_data"
    },
    {
     "data": {
      "application/vnd.jupyter.widget-view+json": {
       "model_id": "9944bca0aa804c37a37cec62dbef6524",
       "version_major": 2,
       "version_minor": 0
      },
      "text/plain": [
       "Button(description='Click3', style=ButtonStyle())"
      ]
     },
     "metadata": {},
     "output_type": "display_data"
    },
    {
     "data": {
      "application/vnd.jupyter.widget-view+json": {
       "model_id": "ce264c45baa1450fac1a8ff2390dd355",
       "version_major": 2,
       "version_minor": 0
      },
      "text/plain": [
       "Button(description='Click4', style=ButtonStyle())"
      ]
     },
     "metadata": {},
     "output_type": "display_data"
    },
    {
     "data": {
      "application/vnd.jupyter.widget-view+json": {
       "model_id": "8572bcacaf324d99b64b19e17e94f22b",
       "version_major": 2,
       "version_minor": 0
      },
      "text/plain": [
       "VBox(children=(Button(description='Click1', style=ButtonStyle()), Button(description='Click2', style=ButtonSty…"
      ]
     },
     "metadata": {},
     "output_type": "display_data"
    }
   ],
   "source": [
    "\n",
    "but1=Button(description='Click1')\n",
    "but2=Button(description='Click2')\n",
    "but3=Button(description='Click3')\n",
    "but4=Button(description='Click4')\n",
    "out=Output()\n",
    "display(out,but1,but2,but3,but4)\n",
    "def mol(d):\n",
    "    with out:\n",
    "        print('yes')\n",
    "but1.on_click(mol)\n",
    "but2.on_click(mol)\n",
    "but3.on_click(mol)\n",
    "but4.on_click(mol)\n",
    "list1=VBox([but1,but2,but3,but4])\n",
    "list1"
   ]
  },
  {
   "cell_type": "code",
   "execution_count": null,
   "id": "5913bf38-9245-4315-84ce-a233ef09ae79",
   "metadata": {},
   "outputs": [],
   "source": []
  }
 ],
 "metadata": {
  "kernelspec": {
   "display_name": "Python 3 (ipykernel)",
   "language": "python",
   "name": "python3"
  },
  "language_info": {
   "codemirror_mode": {
    "name": "ipython",
    "version": 3
   },
   "file_extension": ".py",
   "mimetype": "text/x-python",
   "name": "python",
   "nbconvert_exporter": "python",
   "pygments_lexer": "ipython3",
   "version": "3.8.12"
  }
 },
 "nbformat": 4,
 "nbformat_minor": 5
}
